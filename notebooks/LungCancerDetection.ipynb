{
 "cells": [
  {
   "cell_type": "markdown",
   "metadata": {},
   "source": [
    "## Importing Required Libraries and Setting Up Environment"
   ]
  },
  {
   "cell_type": "markdown",
   "metadata": {},
   "source": [
    "In this section, I imported all the necessary libraries used throughout the project. These include:\n",
    "- **NumPy and Pandas** for data manipulation,\n",
    "- **Matplotlib and Seaborn** for data visualization,\n",
    "- **SimpleITK and PIL** for medical image processing,\n",
    "- **TensorFlow and Keras** for building the deep learning model,\n",
    "- **scikit-learn** for evaluation metrics and dataset splitting,\n",
    "- **tqdm** for progress visualization."
   ]
  },
  {
   "cell_type": "code",
   "execution_count": 1,
   "metadata": {},
   "outputs": [],
   "source": [
    "import numpy as np\n",
    "import pandas as pd\n",
    "import matplotlib.pyplot as plt\n",
    "import seaborn as sns\n",
    "import os\n",
    "import glob\n",
    "import SimpleITK as sitk\n",
    "from PIL import Image\n",
    "import tensorflow as tf\n",
    "from tensorflow.keras.applications import DenseNet121\n",
    "from tensorflow.keras import layers, models, regularizers\n",
    "from tensorflow.keras.callbacks import EarlyStopping, ReduceLROnPlateau, ModelCheckpoint\n",
    "from tensorflow.keras.preprocessing.image import ImageDataGenerator\n",
    "from sklearn.model_selection import train_test_split\n",
    "from sklearn.metrics import classification_report, confusion_matrix, precision_recall_curve\n",
    "from tqdm.notebook import tqdm"
   ]
  },
  {
   "cell_type": "code",
   "execution_count": 2,
   "metadata": {},
   "outputs": [],
   "source": [
    "# Set random seeds for reproducibility\n",
    "np.random.seed(42)\n",
    "tf.random.set_seed(42)"
   ]
  },
  {
   "cell_type": "markdown",
   "metadata": {},
   "source": [
    "## Loading and Preparing the Dataset"
   ]
  },
  {
   "cell_type": "markdown",
   "metadata": {},
   "source": [
    "Here, I loaded the candidate dataset which contains information about lung nodules and their labels (`class`: 1 for malignant, 0 for benign)."
   ]
  },
  {
   "cell_type": "code",
   "execution_count": 3,
   "metadata": {},
   "outputs": [
    {
     "name": "stdout",
     "output_type": "stream",
     "text": [
      "Total samples in dataset: 551065\n"
     ]
    }
   ],
   "source": [
    "# Load datasets\n",
    "candidates = pd.read_csv('../src/data/candidates.csv')\n",
    "print(f\"Total samples in dataset: {len(candidates)}\")"
   ]
  },
  {
   "cell_type": "markdown",
   "metadata": {},
   "source": [
    "Since the dataset is highly imbalanced, I created a balanced dataset using a 1:2 ratio of positives (malignant) to negatives (benign). This helps prevent the model from being biased toward the majority class."
   ]
  },
  {
   "cell_type": "code",
   "execution_count": 4,
   "metadata": {},
   "outputs": [
    {
     "name": "stdout",
     "output_type": "stream",
     "text": [
      "Positive samples: 1351, Negative samples: 549714\n",
      "Balanced dataset created with 4053 samples.\n"
     ]
    }
   ],
   "source": [
    "# Balance classes\n",
    "positives = candidates[candidates['class'] == 1]\n",
    "negatives = candidates[candidates['class'] == 0]\n",
    "print(f\"Positive samples: {len(positives)}, Negative samples: {len(negatives)}\")\n",
    "\n",
    "neg_sample = negatives.sample(n = len(positives) * 2, random_state = 42)\n",
    "balanced_df = pd.concat([positives, neg_sample]).sample(frac = 1, random_state = 42)\n",
    "print(f\"Balanced dataset created with {len(balanced_df)} samples.\")"
   ]
  },
  {
   "cell_type": "markdown",
   "metadata": {},
   "source": [
    "After balancing, I split the data into:\n",
    "- **Training set (70%)**\n",
    "- **Validation set (15%)**\n",
    "- **Test set (15%)**\n",
    "\n",
    "I used stratified splitting to maintain the class distribution across all subsets and ensure fair evaluation."
   ]
  },
  {
   "cell_type": "code",
   "execution_count": 5,
   "metadata": {},
   "outputs": [
    {
     "name": "stdout",
     "output_type": "stream",
     "text": [
      "Training set: 2837 | Validation set: 608 | Test set: 608\n"
     ]
    }
   ],
   "source": [
    "# Split data\n",
    "X = balanced_df.iloc[:, :-1]\n",
    "y = balanced_df.iloc[:, -1]\n",
    "\n",
    "X_train, X_temp, y_train, y_temp = train_test_split(X, y, test_size = 0.3, stratify = y, random_state = 42)\n",
    "X_val, X_test, y_val, y_test = train_test_split(X_temp, y_temp, test_size = 0.5, stratify = y_temp, random_state = 42)\n",
    "\n",
    "print(f\"Training set: {len(X_train)} | Validation set: {len(X_val)} | Test set: {len(X_test)}\")"
   ]
  },
  {
   "cell_type": "markdown",
   "metadata": {},
   "source": [
    "## Loading and Processing CT Scan Images"
   ]
  },
  {
   "cell_type": "markdown",
   "metadata": {},
   "source": [
    "This custom `CTScan` class is designed to handle `.mhd` files from the LUNA16 dataset, which represent 3D CT scan volumes.\n",
    "\n",
    "### Key Responsibilities:\n",
    "- **`read_mhd_image()`**: Loads the `.mhd` image using `SimpleITK`.\n",
    "- **`get_voxel_coords()`**: Converts world coordinates to voxel coordinates for accurate nodule localization.\n",
    "- **`get_subimage()`**: Extracts a 2D slice (centered at the nodule) from the 3D scan.\n",
    "- **`normalize_planes()`**: Normalizes pixel values to the 0–1 range based on Hounsfield units (minHU = -1000, maxHU = 400).\n",
    "- **`save_image()`**: Saves the normalized subimage as a grayscale `.png` image for training.\n",
    "\n",
    "By encapsulating this logic inside a class, I made the image preprocessing modular and reusable."
   ]
  },
  {
   "cell_type": "code",
   "execution_count": 6,
   "metadata": {},
   "outputs": [],
   "source": [
    "class CTScan:\n",
    "    def __init__(self, filename=None, coords=None):\n",
    "        self.filename = filename\n",
    "        self.coords = coords\n",
    "        self.ds = None\n",
    "        self.image = None\n",
    "        self.read_mhd_image()\n",
    "\n",
    "    def read_mhd_image(self):\n",
    "        try:\n",
    "            path = glob.glob(os.path.join('../src/data/raw/**', self.filename + '.mhd'))[0]\n",
    "            self.ds = sitk.ReadImage(path)\n",
    "            self.image = sitk.GetArrayFromImage(self.ds)\n",
    "        except Exception as e:\n",
    "            print(f\"Error loading {self.filename}: {str(e)}\")\n",
    "            raise\n",
    "\n",
    "    def get_voxel_coords(self):\n",
    "        origin = self.ds.GetOrigin()\n",
    "        resolution = self.ds.GetSpacing()\n",
    "        voxel_coords = [abs(self.coords[j] - origin[j]) / resolution[j] for j in range(3)]\n",
    "        return tuple(map(int, voxel_coords))\n",
    "\n",
    "    def get_subimage(self, width=50):\n",
    "        x, y, z = self.get_voxel_coords()\n",
    "        half = width // 2\n",
    "        return self.image[z, y-half:y+half, x-half:x+half]\n",
    "\n",
    "    def normalize_planes(self, npzarray):\n",
    "        maxHU = 400.\n",
    "        minHU = -1000.\n",
    "        npzarray = (npzarray - minHU) / (maxHU - minHU)\n",
    "        return np.clip(npzarray, 0, 1)\n",
    "\n",
    "    def save_image(self, filename, width=50):\n",
    "        subimage = self.get_subimage(width)\n",
    "        subimage = self.normalize_planes(subimage)\n",
    "        subimage = (subimage * 255).astype(np.uint8)\n",
    "        Image.fromarray(subimage).convert('L').save(filename)"
   ]
  },
  {
   "cell_type": "markdown",
   "metadata": {},
   "source": [
    "After defining the `CTScan` class, I used it here to process and save the images for each data split. For every row in the dataset (which includes the series UID and nodule coordinates), the script extracts a centered 2D slice, normalizes it, and saves it as a `.jpg`.\n",
    "\n",
    "This process ensures that my training, validation, and test datasets are properly prepared as image inputs for the CNN model."
   ]
  },
  {
   "cell_type": "code",
   "execution_count": 7,
   "metadata": {},
   "outputs": [
    {
     "data": {
      "application/vnd.jupyter.widget-view+json": {
       "model_id": "7a734100971646f581a7c26d08ceeec7",
       "version_major": 2,
       "version_minor": 0
      },
      "text/plain": [
       "  0%|          | 0/2837 [00:00<?, ?it/s]"
      ]
     },
     "metadata": {},
     "output_type": "display_data"
    },
    {
     "name": "stdout",
     "output_type": "stream",
     "text": [
      "Dataset saved to ../src/data/train/ (2837 images).\n"
     ]
    },
    {
     "data": {
      "application/vnd.jupyter.widget-view+json": {
       "model_id": "7fb711bf94244eff87787dc438c339a4",
       "version_major": 2,
       "version_minor": 0
      },
      "text/plain": [
       "  0%|          | 0/608 [00:00<?, ?it/s]"
      ]
     },
     "metadata": {},
     "output_type": "display_data"
    },
    {
     "name": "stdout",
     "output_type": "stream",
     "text": [
      "Dataset saved to ../src/data/val/ (608 images).\n"
     ]
    },
    {
     "data": {
      "application/vnd.jupyter.widget-view+json": {
       "model_id": "1fe9b3fdc3e0460ebfcf1f89a78a3105",
       "version_major": 2,
       "version_minor": 0
      },
      "text/plain": [
       "  0%|          | 0/608 [00:00<?, ?it/s]"
      ]
     },
     "metadata": {},
     "output_type": "display_data"
    },
    {
     "name": "stdout",
     "output_type": "stream",
     "text": [
      "Dataset saved to ../src/data/test/ (608 images).\n"
     ]
    }
   ],
   "source": [
    "def save_dataset(df, output_dir):\n",
    "    os.makedirs(output_dir, exist_ok=True)\n",
    "    for idx, row in tqdm(df.iterrows(), total=len(df)):\n",
    "        try:\n",
    "            scan = CTScan(row['seriesuid'], [row['coordX'], row['coordY'], row['coordZ']])\n",
    "            scan.save_image(os.path.join(output_dir, f'image_{idx}.jpg'))\n",
    "        except Exception as e:\n",
    "            print(f\"Failed on {row['seriesuid']}: {str(e)}\")\n",
    "    print(f\"Dataset saved to {output_dir} ({len(df)} images).\")\n",
    "\n",
    "save_dataset(X_train, '../src/data/train/')\n",
    "save_dataset(X_val, '../src/data/val/')\n",
    "save_dataset(X_test, '../src/data/test/')"
   ]
  },
  {
   "cell_type": "markdown",
   "metadata": {},
   "source": [
    "Now that the 2D CT slices are saved as images, I loaded them back into memory using the `load_images()` function. Each grayscale image is converted to RGB format (by repeating the single channel across 3 channels) to make it compatible with pretrained CNNs like DenseNet121, which expect 3-channel input. All pixel values are also normalized to the range [0, 1]."
   ]
  },
  {
   "cell_type": "code",
   "execution_count": 8,
   "metadata": {},
   "outputs": [
    {
     "data": {
      "application/vnd.jupyter.widget-view+json": {
       "model_id": "ad85d657f15f4ca0bc8d6ce816af30b7",
       "version_major": 2,
       "version_minor": 0
      },
      "text/plain": [
       "Loading ../src/data/train/:   0%|          | 0/2837 [00:00<?, ?it/s]"
      ]
     },
     "metadata": {},
     "output_type": "display_data"
    },
    {
     "data": {
      "application/vnd.jupyter.widget-view+json": {
       "model_id": "83f26403375a403594b9d010546142a2",
       "version_major": 2,
       "version_minor": 0
      },
      "text/plain": [
       "Loading ../src/data/val/:   0%|          | 0/608 [00:00<?, ?it/s]"
      ]
     },
     "metadata": {},
     "output_type": "display_data"
    },
    {
     "data": {
      "application/vnd.jupyter.widget-view+json": {
       "model_id": "dc18536ed3314423bb427780eb3664b8",
       "version_major": 2,
       "version_minor": 0
      },
      "text/plain": [
       "Loading ../src/data/test/:   0%|          | 0/608 [00:00<?, ?it/s]"
      ]
     },
     "metadata": {},
     "output_type": "display_data"
    }
   ],
   "source": [
    "def load_images(df, img_dir):\n",
    "    images = []\n",
    "    for idx in tqdm(df.index, desc=f\"Loading {img_dir}\"):\n",
    "        img_path = os.path.join(img_dir, f'image_{idx}.jpg')\n",
    "        img = Image.open(img_path)\n",
    "        # Convert grayscale to RGB by repeating channels\n",
    "        img = np.array(img.convert('RGB')) / 255.0\n",
    "        images.append(img)\n",
    "    return np.array(images)\n",
    "\n",
    "X_train_images = load_images(X_train, '../src/data/train/')\n",
    "X_val_images = load_images(X_val, '../src/data/val/')\n",
    "X_test_images = load_images(X_test, '../src/data/test/')"
   ]
  },
  {
   "cell_type": "markdown",
   "metadata": {},
   "source": [
    "Here, I reshaped the labels to match the expected input shape for Keras models (i.e., column vectors). I also printed the shapes of the image arrays and label arrays for all splits to ensure consistency before training."
   ]
  },
  {
   "cell_type": "code",
   "execution_count": 9,
   "metadata": {},
   "outputs": [
    {
     "name": "stdout",
     "output_type": "stream",
     "text": [
      "Training images: (2837, 50, 50, 3), labels: (2837, 1)\n",
      "Validation images: (608, 50, 50, 3), labels: (608, 1)\n",
      "Test images: (608, 50, 50, 3), labels: (608, 1)\n"
     ]
    }
   ],
   "source": [
    "y_train = y_train.values.reshape(-1, 1)\n",
    "y_val = y_val.values.reshape(-1, 1)\n",
    "y_test = y_test.values.reshape(-1, 1)\n",
    "\n",
    "# Verify shapes\n",
    "print(f\"Training images: {X_train_images.shape}, labels: {y_train.shape}\")\n",
    "print(f\"Validation images: {X_val_images.shape}, labels: {y_val.shape}\")\n",
    "print(f\"Test images: {X_test_images.shape}, labels: {y_test.shape}\")"
   ]
  },
  {
   "cell_type": "markdown",
   "metadata": {},
   "source": [
    "### Tackling Class Imbalance Through Data Augmentation"
   ]
  },
  {
   "cell_type": "markdown",
   "metadata": {},
   "source": [
    "While working with this dataset, I noticed a major issue: the number of malignant (positive) nodules was extremely low — just around 0.2% of the total. This heavy class imbalance was making the model biased toward predicting negatives, and the performance on malignant cases was poor.\n",
    "\n",
    "To solve this, I focused on augmenting only the positive class. I used medically relevant transformations like slight rotations, shifts, zooms, and flips — and even added some Gaussian noise to mimic CT scan variability. This not only helped balance the dataset but also made the model more robust in detecting rare cancerous cases."
   ]
  },
  {
   "cell_type": "code",
   "execution_count": 10,
   "metadata": {},
   "outputs": [],
   "source": [
    "med_aug = ImageDataGenerator(\n",
    "    rotation_range=15,\n",
    "    width_shift_range=0.1,\n",
    "    height_shift_range=0.1,\n",
    "    shear_range=0.1,\n",
    "    zoom_range=0.1,\n",
    "    horizontal_flip=True,\n",
    "    fill_mode='reflect',\n",
    "    preprocessing_function=lambda x: x + np.random.normal(0, 0.03, x.shape)  # CT noise\n",
    ")"
   ]
  },
  {
   "cell_type": "markdown",
   "metadata": {},
   "source": [
    "Here, I performed **5x augmentation** on the positive class by transforming each malignant image five times. The augmented images were then added to the training set, and their labels were set to 1. This significantly improves the model’s ability to learn from scarce positive cases."
   ]
  },
  {
   "cell_type": "code",
   "execution_count": 11,
   "metadata": {},
   "outputs": [
    {
     "name": "stdout",
     "output_type": "stream",
     "text": [
      "Training samples increased from 2837 to 7567\n"
     ]
    }
   ],
   "source": [
    "X_pos = X_train_images[y_train.flatten() == 1]\n",
    "augmented = []\n",
    "for _ in range(5):  # 5x augmentation\n",
    "    for img in X_pos:\n",
    "        augmented.append(med_aug.random_transform(img))\n",
    "X_train_aug = np.concatenate([X_train_images, augmented])\n",
    "y_train_aug = np.concatenate([y_train, np.ones((len(augmented), 1))])\n",
    "\n",
    "print(f\"Training samples increased from {len(X_train)} to {len(X_train_aug)}\")"
   ]
  },
  {
   "cell_type": "markdown",
   "metadata": {},
   "source": [
    "## Building the DenseNet121-Based Model"
   ]
  },
  {
   "cell_type": "markdown",
   "metadata": {},
   "source": [
    "To build the classifier, I used DenseNet121 pretrained on ImageNet as the feature extractor. I froze the earlier layers to retain useful low-level features and added custom dense layers for binary classification.\n",
    "\n",
    "Since the dataset is highly imbalanced, I defined a custom weighted loss function that penalizes false negatives more than false positives. This helps the model learn better from the rare malignant cases."
   ]
  },
  {
   "cell_type": "code",
   "execution_count": 12,
   "metadata": {},
   "outputs": [],
   "source": [
    "def build_densenet():\n",
    "    # Load pre-trained DenseNet without top layer\n",
    "    base = DenseNet121(weights='imagenet', \n",
    "                      include_top=False, \n",
    "                      input_shape=(50, 50, 3),\n",
    "                      pooling='avg')\n",
    "    \n",
    "    # Freeze initial layers\n",
    "    for layer in base.layers[:100]:\n",
    "        layer.trainable = False\n",
    "    \n",
    "    model = models.Sequential([\n",
    "        base,\n",
    "        layers.Dense(128, activation='relu', kernel_regularizer=regularizers.l2(0.01)),\n",
    "        layers.BatchNormalization(),\n",
    "        layers.Dropout(0.5),\n",
    "        layers.Dense(1, activation='sigmoid')\n",
    "    ])\n",
    "    \n",
    "    # Custom loss to handle class imbalance\n",
    "    def weighted_loss(y_true, y_pred):\n",
    "        bce = tf.keras.losses.binary_crossentropy(y_true, y_pred)\n",
    "        weight = tf.where(y_true == 1, 2.5, 1.0)  # Higher penalty for FN\n",
    "        return tf.reduce_mean(weight * bce)\n",
    "    \n",
    "    model.compile(\n",
    "        optimizer=tf.keras.optimizers.Adam(learning_rate=0.0001),\n",
    "        loss=weighted_loss,\n",
    "        metrics=[\n",
    "            'accuracy',\n",
    "            tf.keras.metrics.AUC(name='auc'),\n",
    "            tf.keras.metrics.Precision(name='precision'),\n",
    "            tf.keras.metrics.Recall(name='recall')\n",
    "        ]\n",
    "    )\n",
    "    \n",
    "    return model\n",
    "\n",
    "model = build_densenet()"
   ]
  },
  {
   "cell_type": "markdown",
   "metadata": {},
   "source": [
    "## Training the Model with Callbacks"
   ]
  },
  {
   "cell_type": "markdown",
   "metadata": {},
   "source": [
    "To train the model, I used early stopping and learning rate reduction to avoid overfitting and improve convergence. I also saved the best-performing model based on validation AUC.\n",
    "\n",
    "The model was trained on the augmented training set and validated on the untouched validation set. I used a batch size of 32 and trained for up to 50 epochs, with early stopping kicking in if performance stopped improving."
   ]
  },
  {
   "cell_type": "code",
   "execution_count": 13,
   "metadata": {},
   "outputs": [
    {
     "name": "stdout",
     "output_type": "stream",
     "text": [
      "Epoch 1/50\n",
      "237/237 [==============================] - 183s 558ms/step - loss: 3.4462 - accuracy: 0.6491 - auc: 0.7327 - precision: 0.8687 - recall: 0.6270 - val_loss: 2.2374 - val_accuracy: 0.7845 - val_auc: 0.8743 - val_precision: 0.6371 - val_recall: 0.8168 - lr: 1.0000e-04\n",
      "Epoch 2/50\n",
      "237/237 [==============================] - 97s 411ms/step - loss: 2.2311 - accuracy: 0.8318 - auc: 0.9098 - precision: 0.9333 - recall: 0.8354 - val_loss: 1.7744 - val_accuracy: 0.8553 - val_auc: 0.9141 - val_precision: 0.7478 - val_recall: 0.8515 - lr: 1.0000e-04\n",
      "Epoch 3/50\n",
      "237/237 [==============================] - 113s 476ms/step - loss: 1.6092 - accuracy: 0.9212 - auc: 0.9627 - precision: 0.9508 - recall: 0.9438 - val_loss: 1.5416 - val_accuracy: 0.8947 - val_auc: 0.9382 - val_precision: 0.8108 - val_recall: 0.8911 - lr: 1.0000e-04\n",
      "Epoch 4/50\n",
      "237/237 [==============================] - 111s 471ms/step - loss: 1.3090 - accuracy: 0.9510 - auc: 0.9819 - precision: 0.9645 - recall: 0.9704 - val_loss: 1.4862 - val_accuracy: 0.8668 - val_auc: 0.9455 - val_precision: 0.7430 - val_recall: 0.9158 - lr: 1.0000e-04\n",
      "Epoch 5/50\n",
      "237/237 [==============================] - 119s 503ms/step - loss: 1.1383 - accuracy: 0.9688 - auc: 0.9908 - precision: 0.9774 - recall: 0.9811 - val_loss: 1.4628 - val_accuracy: 0.8701 - val_auc: 0.9365 - val_precision: 0.7573 - val_recall: 0.8960 - lr: 1.0000e-04\n",
      "Epoch 6/50\n",
      "237/237 [==============================] - 130s 550ms/step - loss: 1.0169 - accuracy: 0.9761 - auc: 0.9943 - precision: 0.9821 - recall: 0.9861 - val_loss: 1.3958 - val_accuracy: 0.8635 - val_auc: 0.9414 - val_precision: 0.7409 - val_recall: 0.9059 - lr: 1.0000e-04\n",
      "Epoch 7/50\n",
      "237/237 [==============================] - 153s 644ms/step - loss: 0.8987 - accuracy: 0.9839 - auc: 0.9982 - precision: 0.9877 - recall: 0.9908 - val_loss: 1.2908 - val_accuracy: 0.8783 - val_auc: 0.9515 - val_precision: 0.7602 - val_recall: 0.9257 - lr: 1.0000e-04\n",
      "Epoch 8/50\n",
      "237/237 [==============================] - 147s 621ms/step - loss: 0.8115 - accuracy: 0.9897 - auc: 0.9986 - precision: 0.9919 - recall: 0.9944 - val_loss: 1.2628 - val_accuracy: 0.8832 - val_auc: 0.9514 - val_precision: 0.7787 - val_recall: 0.9059 - lr: 1.0000e-04\n",
      "Epoch 9/50\n",
      "237/237 [==============================] - 160s 677ms/step - loss: 0.7500 - accuracy: 0.9884 - auc: 0.9989 - precision: 0.9916 - recall: 0.9930 - val_loss: 1.2825 - val_accuracy: 0.8832 - val_auc: 0.9436 - val_precision: 0.7885 - val_recall: 0.8861 - lr: 1.0000e-04\n",
      "Epoch 10/50\n",
      "237/237 [==============================] - 146s 616ms/step - loss: 0.6911 - accuracy: 0.9892 - auc: 0.9986 - precision: 0.9914 - recall: 0.9942 - val_loss: 1.2493 - val_accuracy: 0.8520 - val_auc: 0.9473 - val_precision: 0.7154 - val_recall: 0.9208 - lr: 1.0000e-04\n",
      "Epoch 11/50\n",
      "237/237 [==============================] - 151s 637ms/step - loss: 0.6247 - accuracy: 0.9905 - auc: 0.9985 - precision: 0.9918 - recall: 0.9956 - val_loss: 1.1170 - val_accuracy: 0.8783 - val_auc: 0.9530 - val_precision: 0.7623 - val_recall: 0.9208 - lr: 1.0000e-04\n",
      "Epoch 12/50\n",
      "237/237 [==============================] - 143s 604ms/step - loss: 0.5531 - accuracy: 0.9929 - auc: 0.9995 - precision: 0.9945 - recall: 0.9959 - val_loss: 1.1430 - val_accuracy: 0.8799 - val_auc: 0.9453 - val_precision: 0.7676 - val_recall: 0.9158 - lr: 1.0000e-04\n",
      "Epoch 13/50\n",
      "237/237 [==============================] - 164s 694ms/step - loss: 0.5055 - accuracy: 0.9929 - auc: 0.9987 - precision: 0.9947 - recall: 0.9958 - val_loss: 0.9998 - val_accuracy: 0.8980 - val_auc: 0.9529 - val_precision: 0.8302 - val_recall: 0.8713 - lr: 1.0000e-04\n",
      "Epoch 14/50\n",
      "237/237 [==============================] - 152s 644ms/step - loss: 0.4511 - accuracy: 0.9925 - auc: 0.9993 - precision: 0.9940 - recall: 0.9959 - val_loss: 1.2147 - val_accuracy: 0.8684 - val_auc: 0.9301 - val_precision: 0.7500 - val_recall: 0.9059 - lr: 1.0000e-04\n",
      "Epoch 15/50\n",
      "237/237 [==============================] - 152s 641ms/step - loss: 0.4311 - accuracy: 0.9892 - auc: 0.9988 - precision: 0.9919 - recall: 0.9937 - val_loss: 1.0162 - val_accuracy: 0.8783 - val_auc: 0.9454 - val_precision: 0.7712 - val_recall: 0.9010 - lr: 1.0000e-04\n",
      "Epoch 16/50\n",
      "237/237 [==============================] - 153s 647ms/step - loss: 0.3606 - accuracy: 0.9935 - auc: 0.9994 - precision: 0.9949 - recall: 0.9965 - val_loss: 0.9209 - val_accuracy: 0.8980 - val_auc: 0.9453 - val_precision: 0.8271 - val_recall: 0.8762 - lr: 1.0000e-04\n",
      "Epoch 17/50\n",
      "237/237 [==============================] - 151s 639ms/step - loss: 0.3248 - accuracy: 0.9948 - auc: 0.9992 - precision: 0.9960 - recall: 0.9972 - val_loss: 0.8421 - val_accuracy: 0.8947 - val_auc: 0.9558 - val_precision: 0.7949 - val_recall: 0.9208 - lr: 1.0000e-04\n",
      "Epoch 18/50\n",
      "237/237 [==============================] - 118s 496ms/step - loss: 0.2846 - accuracy: 0.9954 - auc: 0.9994 - precision: 0.9958 - recall: 0.9981 - val_loss: 0.8168 - val_accuracy: 0.8898 - val_auc: 0.9519 - val_precision: 0.8230 - val_recall: 0.8515 - lr: 1.0000e-04\n",
      "Epoch 19/50\n",
      "237/237 [==============================] - 121s 512ms/step - loss: 0.2690 - accuracy: 0.9938 - auc: 0.9991 - precision: 0.9958 - recall: 0.9959 - val_loss: 0.7724 - val_accuracy: 0.9046 - val_auc: 0.9504 - val_precision: 0.8273 - val_recall: 0.9010 - lr: 1.0000e-04\n",
      "Epoch 20/50\n",
      "237/237 [==============================] - 96s 407ms/step - loss: 0.2123 - accuracy: 0.9971 - auc: 0.9999 - precision: 0.9975 - recall: 0.9986 - val_loss: 0.7949 - val_accuracy: 0.8980 - val_auc: 0.9520 - val_precision: 0.8070 - val_recall: 0.9109 - lr: 1.0000e-04\n",
      "Epoch 21/50\n",
      "237/237 [==============================] - 98s 415ms/step - loss: 0.2189 - accuracy: 0.9925 - auc: 0.9986 - precision: 0.9940 - recall: 0.9959 - val_loss: 0.8676 - val_accuracy: 0.8914 - val_auc: 0.9514 - val_precision: 0.7764 - val_recall: 0.9455 - lr: 1.0000e-04\n",
      "Epoch 22/50\n",
      "237/237 [==============================] - 100s 421ms/step - loss: 0.1798 - accuracy: 0.9966 - auc: 0.9993 - precision: 0.9977 - recall: 0.9977 - val_loss: 0.6864 - val_accuracy: 0.8931 - val_auc: 0.9496 - val_precision: 0.8100 - val_recall: 0.8861 - lr: 1.0000e-04\n",
      "Epoch 23/50\n",
      "237/237 [==============================] - 114s 480ms/step - loss: 0.1643 - accuracy: 0.9943 - auc: 0.9998 - precision: 0.9956 - recall: 0.9968 - val_loss: 0.7809 - val_accuracy: 0.8832 - val_auc: 0.9555 - val_precision: 0.7741 - val_recall: 0.9158 - lr: 1.0000e-04\n",
      "Epoch 24/50\n",
      "237/237 [==============================] - 168s 709ms/step - loss: 0.1416 - accuracy: 0.9952 - auc: 0.9999 - precision: 0.9967 - recall: 0.9970 - val_loss: 0.5940 - val_accuracy: 0.9112 - val_auc: 0.9620 - val_precision: 0.8491 - val_recall: 0.8911 - lr: 1.0000e-04\n",
      "Epoch 25/50\n",
      "237/237 [==============================] - 139s 588ms/step - loss: 0.1305 - accuracy: 0.9955 - auc: 0.9994 - precision: 0.9970 - recall: 0.9970 - val_loss: 0.7350 - val_accuracy: 0.8947 - val_auc: 0.9548 - val_precision: 0.7974 - val_recall: 0.9158 - lr: 1.0000e-04\n",
      "Epoch 26/50\n",
      "237/237 [==============================] - 139s 589ms/step - loss: 0.1276 - accuracy: 0.9962 - auc: 0.9989 - precision: 0.9968 - recall: 0.9981 - val_loss: 0.6690 - val_accuracy: 0.9145 - val_auc: 0.9540 - val_precision: 0.8409 - val_recall: 0.9158 - lr: 1.0000e-04\n",
      "Epoch 27/50\n",
      "237/237 [==============================] - 122s 513ms/step - loss: 0.1160 - accuracy: 0.9972 - auc: 0.9996 - precision: 0.9979 - recall: 0.9984 - val_loss: 0.6814 - val_accuracy: 0.9030 - val_auc: 0.9525 - val_precision: 0.8122 - val_recall: 0.9208 - lr: 1.0000e-04\n",
      "Epoch 28/50\n",
      "237/237 [==============================] - 101s 427ms/step - loss: 0.1661 - accuracy: 0.9870 - auc: 0.9982 - precision: 0.9917 - recall: 0.9910 - val_loss: 0.6726 - val_accuracy: 0.8931 - val_auc: 0.9530 - val_precision: 0.7965 - val_recall: 0.9109 - lr: 1.0000e-04\n",
      "Epoch 29/50\n",
      "237/237 [==============================] - 101s 425ms/step - loss: 0.0835 - accuracy: 0.9974 - auc: 0.9997 - precision: 0.9979 - recall: 0.9986 - val_loss: 0.5720 - val_accuracy: 0.9062 - val_auc: 0.9566 - val_precision: 0.8341 - val_recall: 0.8960 - lr: 1.0000e-04\n",
      "Epoch 30/50\n",
      "237/237 [==============================] - 103s 433ms/step - loss: 0.1115 - accuracy: 0.9950 - auc: 0.9989 - precision: 0.9965 - recall: 0.9968 - val_loss: 0.6468 - val_accuracy: 0.8914 - val_auc: 0.9526 - val_precision: 0.8009 - val_recall: 0.8960 - lr: 1.0000e-04\n",
      "Epoch 31/50\n",
      "237/237 [==============================] - 105s 443ms/step - loss: 0.0778 - accuracy: 0.9983 - auc: 0.9999 - precision: 0.9989 - recall: 0.9988 - val_loss: 0.5774 - val_accuracy: 0.9161 - val_auc: 0.9579 - val_precision: 0.8386 - val_recall: 0.9257 - lr: 1.0000e-04\n",
      "Epoch 32/50\n",
      "237/237 [==============================] - 105s 444ms/step - loss: 0.0553 - accuracy: 0.9991 - auc: 1.0000 - precision: 0.9995 - recall: 0.9993 - val_loss: 0.6422 - val_accuracy: 0.9095 - val_auc: 0.9564 - val_precision: 0.8050 - val_recall: 0.9604 - lr: 1.0000e-04\n",
      "Epoch 33/50\n",
      "237/237 [==============================] - 597s 3s/step - loss: 0.0502 - accuracy: 0.9987 - auc: 1.0000 - precision: 0.9991 - recall: 0.9991 - val_loss: 0.6317 - val_accuracy: 0.9128 - val_auc: 0.9518 - val_precision: 0.8433 - val_recall: 0.9059 - lr: 1.0000e-04\n",
      "Epoch 34/50\n",
      "237/237 [==============================] - 131s 553ms/step - loss: 0.0623 - accuracy: 0.9967 - auc: 0.9990 - precision: 0.9972 - recall: 0.9984 - val_loss: 0.6094 - val_accuracy: 0.9095 - val_auc: 0.9547 - val_precision: 0.8210 - val_recall: 0.9307 - lr: 1.0000e-04\n",
      "Epoch 35/50\n",
      "237/237 [==============================] - 161s 680ms/step - loss: 0.0388 - accuracy: 0.9995 - auc: 1.0000 - precision: 0.9995 - recall: 0.9998 - val_loss: 0.5840 - val_accuracy: 0.9112 - val_auc: 0.9590 - val_precision: 0.8190 - val_recall: 0.9406 - lr: 2.0000e-05\n",
      "Epoch 36/50\n",
      "237/237 [==============================] - 179s 756ms/step - loss: 0.0459 - accuracy: 0.9991 - auc: 0.9999 - precision: 0.9995 - recall: 0.9993 - val_loss: 0.5530 - val_accuracy: 0.9095 - val_auc: 0.9574 - val_precision: 0.8238 - val_recall: 0.9257 - lr: 2.0000e-05\n",
      "Epoch 37/50\n",
      "237/237 [==============================] - 2224s 9s/step - loss: 0.0363 - accuracy: 0.9996 - auc: 1.0000 - precision: 0.9998 - recall: 0.9996 - val_loss: 0.5923 - val_accuracy: 0.9145 - val_auc: 0.9606 - val_precision: 0.8233 - val_recall: 0.9455 - lr: 2.0000e-05\n",
      "Epoch 38/50\n",
      "237/237 [==============================] - 116s 488ms/step - loss: 0.0346 - accuracy: 0.9999 - auc: 0.9999 - precision: 1.0000 - recall: 0.9998 - val_loss: 0.6032 - val_accuracy: 0.9128 - val_auc: 0.9576 - val_precision: 0.8197 - val_recall: 0.9455 - lr: 2.0000e-05\n",
      "Epoch 39/50\n",
      "237/237 [==============================] - 132s 556ms/step - loss: 0.0326 - accuracy: 0.9996 - auc: 1.0000 - precision: 0.9996 - recall: 0.9998 - val_loss: 0.5778 - val_accuracy: 0.9161 - val_auc: 0.9607 - val_precision: 0.8326 - val_recall: 0.9356 - lr: 2.0000e-05\n"
     ]
    }
   ],
   "source": [
    "callbacks = [\n",
    "    EarlyStopping(monitor='val_auc', patience=15, mode='max', restore_best_weights=True),\n",
    "    ReduceLROnPlateau(monitor='val_loss', factor=0.2, patience=5, min_lr=1e-6),\n",
    "    ModelCheckpoint('best_densenet.keras', save_best_only=True)\n",
    "]\n",
    "\n",
    "history = model.fit(\n",
    "    X_train_aug, y_train_aug,\n",
    "    validation_data=(X_val_images, y_val),\n",
    "    epochs=50,\n",
    "    batch_size=32,\n",
    "    callbacks=callbacks,\n",
    "    verbose=1\n",
    ")"
   ]
  },
  {
   "cell_type": "markdown",
   "metadata": {},
   "source": [
    "## Evaluating the Model with Optimal Threshold"
   ]
  },
  {
   "cell_type": "markdown",
   "metadata": {},
   "source": [
    "Instead of using the default 0.5 threshold, I searched for the threshold that gives the best F1 score on the validation set. This helps balance precision and recall, especially important when dealing with imbalanced data like this.\n",
    "\n",
    "I then evaluated the model on the test set using this optimal threshold and printed a detailed classification report to assess clinical performance."
   ]
  },
  {
   "cell_type": "code",
   "execution_count": 14,
   "metadata": {},
   "outputs": [
    {
     "name": "stdout",
     "output_type": "stream",
     "text": [
      "19/19 [==============================] - 6s 167ms/step\n",
      "19/19 [==============================] - 3s 173ms/step\n"
     ]
    }
   ],
   "source": [
    "# Find optimal threshold\n",
    "val_probs = model.predict(X_val_images)\n",
    "precision, recall, thresholds = precision_recall_curve(y_val, val_probs)\n",
    "f1_scores = 2 * (precision * recall) / (precision + recall + 1e-8)\n",
    "optimal_threshold = thresholds[np.argmax(f1_scores)]\n",
    "\n",
    "# Evaluate\n",
    "test_probs = model.predict(X_test_images)\n",
    "y_pred_optimal = (test_probs > optimal_threshold).astype(int)"
   ]
  },
  {
   "cell_type": "markdown",
   "metadata": {},
   "source": [
    "## Visualizing Performance: Confusion Matrix and Learning Curves"
   ]
  },
  {
   "cell_type": "markdown",
   "metadata": {},
   "source": [
    "To better understand how the model performs, I plotted:\n",
    "- A **confusion matrix** to see true/false positives and negatives.\n",
    "- **AUC and loss curves** to visualize how the model learned over epochs for both training and validation sets."
   ]
  },
  {
   "cell_type": "code",
   "execution_count": 15,
   "metadata": {},
   "outputs": [
    {
     "name": "stdout",
     "output_type": "stream",
     "text": [
      "\n",
      "CLINICAL PERFORMANCE\n",
      "              precision    recall  f1-score   support\n",
      "\n",
      "     Healthy       0.96      0.90      0.93       405\n",
      "      Cancer       0.82      0.93      0.87       203\n",
      "\n",
      "    accuracy                           0.91       608\n",
      "   macro avg       0.89      0.91      0.90       608\n",
      "weighted avg       0.91      0.91      0.91       608\n",
      "\n",
      "Optimal Threshold: 0.424\n"
     ]
    },
    {
     "data": {
      "image/png": "[encoded data removed]",
      "text/plain": [
       "<Figure size 1000x800 with 2 Axes>"
      ]
     },
     "metadata": {},
     "output_type": "display_data"
    },
    {
     "data": {
      "image/png": "[encoded data removed]",
      "text/plain": [
       "<Figure size 1200x500 with 2 Axes>"
      ]
     },
     "metadata": {},
     "output_type": "display_data"
    }
   ],
   "source": [
    "print(\"\\nCLINICAL PERFORMANCE\")\n",
    "print(classification_report(y_test, y_pred_optimal, \n",
    "                          target_names=['Healthy', 'Cancer']))\n",
    "print(f\"Optimal Threshold: {optimal_threshold:.3f}\")\n",
    "\n",
    "# Confusion matrix\n",
    "plt.figure(figsize=(10,8))\n",
    "sns.heatmap(confusion_matrix(y_test, y_pred_optimal), \n",
    "            annot=True, fmt='d', cmap='Blues',\n",
    "            xticklabels=['Healthy', 'Cancer'],\n",
    "            yticklabels=['Healthy', 'Cancer'])\n",
    "plt.title('Confusion Matrix (Optimal Threshold)')\n",
    "plt.show()\n",
    "\n",
    "# Learning curves\n",
    "plt.figure(figsize=(12,5))\n",
    "plt.subplot(1,2,1)\n",
    "plt.plot(history.history['auc'], label='Train AUC')\n",
    "plt.plot(history.history['val_auc'], label='Val AUC')\n",
    "plt.legend()\n",
    "plt.subplot(1,2,2)\n",
    "plt.plot(history.history['loss'], label='Train Loss')\n",
    "plt.plot(history.history['val_loss'], label='Val Loss')\n",
    "plt.legend()\n",
    "plt.tight_layout()\n",
    "plt.show()"
   ]
  },
  {
   "cell_type": "code",
   "execution_count": null,
   "metadata": {},
   "outputs": [],
   "source": []
  }
 ],
 "metadata": {
  "kernelspec": {
   "display_name": "LungCancerDetection (venv)",
   "language": "python",
   "name": "lcd_env"
  },
  "language_info": {
   "codemirror_mode": {
    "name": "ipython",
    "version": 3
   },
   "file_extension": ".py",
   "mimetype": "text/x-python",
   "name": "python",
   "nbconvert_exporter": "python",
   "pygments_lexer": "ipython3",
   "version": "3.10.9"
  }
 },
 "nbformat": 4,
 "nbformat_minor": 4
}
